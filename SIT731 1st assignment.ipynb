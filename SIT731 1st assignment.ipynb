{
 "cells": [
  {
   "cell_type": "markdown",
   "id": "c45ab71c",
   "metadata": {},
   "source": [
    "## My first Assignment ##\n",
    "\n",
    "\n",
    "Name: Addala Srivatsa Gaurav (Gaurav)\n",
    "\n",
    "Student id: 223872808\n",
    "\n",
    "email: asgaurav9@gmail.com\n",
    "\n",
    "I am an postgraduate student( SIT731).\n",
    "\n",
    "This task is about creating a jupyter notebook which contains lists ,of people. Which contains names, heights and weights , then calculate there bmi and bmi category based on the data then plot a bar graph of the output data. Then in the next step for calculating the new bmi for exponent of 2.5 which is given in task , enter the formulae and calculate it , we will see the change in the new bmi as the formulae and the value of component is added as 2.5.  \n"
   ]
  },
  {
   "cell_type": "code",
   "execution_count": 20,
   "id": "a19b907b",
   "metadata": {},
   "outputs": [
    {
     "data": {
      "image/png": "[encoded data removed]",
      "text/plain": [
       "<Figure size 640x480 with 1 Axes>"
      ]
     },
     "metadata": {},
     "output_type": "display_data"
    }
   ],
   "source": [
    "import matplotlib.pyplot as plt\n",
    "\n",
    "# Input data\n",
    "names = [\"varun\", \"praneeth\", \"rishik\", \"arun\", \"pavan\", \"abhishek\"]\n",
    "heights = [157, 165, 169, 170, 167, 165]\n",
    "weights = [68, 69, 79, 80, 67, 84]\n",
    "\n",
    "# Calculating BMI for each person\n",
    "bmis = []\n",
    "bmi_categories = []\n",
    "\n",
    "for i in range(len(names)):\n",
    "    height_meters = heights[i] / 100                        # formulae for calculation of bmi\n",
    "    bmi = weights[i] / (height_meters ** 2)\n",
    "    bmis.append(bmi)\n",
    "\n",
    "    if bmi < 18.5:\n",
    "        bmi_cat = \"underweight\"\n",
    "    elif bmi < 25.0:                                        # defining cat as category\n",
    "        bmi_cat = \"normal\"\n",
    "    elif bmi < 30.0:\n",
    "        bmi_cat = \"overweight\"\n",
    "    else:\n",
    "        bmi_cat = \"obese\"   \n",
    "    \n",
    "    bmi_categories.append(bmi_cat)\n",
    "     \n",
    " # Draw bar plot #\n",
    "cat_color = {'underweight': 'yellow', 'normal': 'green', 'overweight': 'orange', 'obese': 'red'}\n",
    "color = [cat_color[\"underweight\"] if bmi < 18.5 else\n",
    "          cat_color[\"normal\"] if bmi < 25.0 else\n",
    "          cat_color[\"overweight\"] if bmi < 30.0 else\n",
    "          cat_color[\"obese\"]for bmi in bmis] \n",
    "\n",
    "plt.bar(names, bmis, color=color)\n",
    "plt.xlabel('FRIENDS')\n",
    "plt.ylabel('BMI')\n",
    "plt.title(\"Friends' BMIs\")\n",
    "plt.show()"
   ]
  },
  {
   "cell_type": "markdown",
   "id": "85a6d34d",
   "metadata": {},
   "source": [
    "## Benefits and limitations on BMI ##\n",
    "\n",
    "\n",
    "BMI is a value derived from mass and height of a person and this can be calculated for any person. And for defining it has a formulae that is body mass by sq of body height and is expressed in kg\\m^2.\n",
    "\n",
    " According to WHO . the Major adult BMI classifications are underweight (under 18.5 kg/m2), normal weight (18.5 to 24.9), overweight (25 to 29.9), and obese (30 or more).BMIs under 20 and over 25 have been associated with higher all-cause mortality, with the risk increasing with distance from the 20–25 range.\n",
    " \n",
    " #Benefits#\n",
    " \n",
    "1.It is simple and easy to calculate.\n",
    "\n",
    "2.Bmi is often used for population level assessment of the body.\n",
    "\n",
    "3.By BMI we can know certain health conditions and diseases too.\n",
    "\n",
    "4.Based on BMI few studies and examinations can be done.\n",
    "\n",
    "5.BMI is a tool to understand people aboyt there mass of the body and health.\n",
    "\n",
    "#limitations#\n",
    "\n",
    "1.BMI doesnt tells about the differnce muscle and fat.\n",
    "\n",
    "\n",
    "2.BMI ignores about the fat content in the body.\n",
    "\n",
    "3.Doesnt have age related changes.\n",
    "\n",
    "4.According to the same BMI different people have different health risks which it cant say.\n",
    " \n",
    " \n",
    " #referred from wikipedia\n",
    "(https://en.wikipedia.org/wiki/Body_mass_index)"
   ]
  },
  {
   "cell_type": "code",
   "execution_count": 21,
   "id": "3a4518ae",
   "metadata": {
    "scrolled": false
   },
   "outputs": [
    {
     "name": "stdout",
     "output_type": "stream",
     "text": [
      "varun has BMI of 27.59 which is overweight.       The new BMI is 28.62.\n",
      "praneeth has BMI of 25.34 which is overweight.       The new BMI is 25.65.\n",
      "rishik has BMI of 27.66 which is overweight.       The new BMI is 27.66.\n",
      "arun has BMI of 27.68 which is overweight.       The new BMI is 27.60.\n",
      "pavan has BMI of 24.02 which is normal.       The new BMI is 24.17.\n",
      "abhishek has BMI of 30.85 which is obese.       The new BMI is 31.23.\n"
     ]
    }
   ],
   "source": [
    "\n",
    "for i in range(len(names)):\n",
    "    height_meters = heights[i] / 100                                 # Convert height from cm to meters\n",
    "    new_bmi = 1.3 * weights[i] / (height_meters ** 2.5)         # Using the new BMI formula with exponent 2.5\n",
    "    new_bmis.append(new_bmi)\n",
    "   \n",
    "    name = names[i]\n",
    "    bmi = bmis[i]\n",
    "    bmi_cat = bmi_categories[i] \n",
    "    \n",
    "    # Using the BMI category determined earlier\n",
    "    print(f\"{name} has BMI of {bmi:.2f} which is {bmi_cat}.       The new BMI is {new_bmi:.2f}.\")"
   ]
  },
  {
   "cell_type": "markdown",
   "id": "3701cdbe",
   "metadata": {},
   "source": [
    "## Advantages and limitations of the measure ##\n",
    "\n",
    "The New BMI is calculated using the exponent of 2.5 on the BMI formula. \n",
    "\n",
    "\n",
    "This exponent of 2.5 is used in a revised formula for Body Mass Index, which minimizes the distortions for shorter and taller individuals resulting from the use of an exponent of 2 in the traditional BMI formula:\n",
    "\n",
    " Advantages:\n",
    " 1.The exponent of 2.5 might provide a measure where the value maybe be more and differed.\n",
    " \n",
    " 2.It may be more sensitive to changes in muscle mass or fat distribution.\n",
    " \n",
    " 3.The scaling factor of 1.3 was determined to make the proposed new BMI formula align with the traditional BMI formula for     adults of average height\n",
    " \n",
    " 4.In analysis, an exponent of 2.5 was found to fit empirical data more closely with less distortion than either an exponent of 2 or 3.\n",
    " \n",
    " Limitations:\n",
    " \n",
    " 1.It shows a differnce between the old and the exponent of 2.5.\n",
    " \n",
    " 2.The health conditions and the assesment of the body might  also differ.\n",
    " \n",
    " 3.They should be taken special care abouth their health.\n",
    " \n",
    " \n",
    "#referred from wikipedia (https://en.wikipedia.org/wiki/Body_mass_index)\n",
    "\n",
    "\n"
   ]
  },
  {
   "cell_type": "markdown",
   "id": "8808b286",
   "metadata": {},
   "source": [
    "## Conclusion about the task ##\n",
    "\n",
    "This task is about bmi. In the above, bmi is calculated by the formulae and new bmi is done with exponent of 2.5. In this task we get an oppurtunity study about bmi index , how to analyse the task and implement the code based on the question given. Using for loop and if and else statements, the code is written.  Matplotlib is a library used in the code for creating static, animated, and interactive visualizations in Python. Advantages, benefits and limitations of bmi is also defined in markdown (markup lang).\n"
   ]
  },
  {
   "cell_type": "code",
   "execution_count": null,
   "id": "e2c5c0cd",
   "metadata": {},
   "outputs": [],
   "source": []
  }
 ],
 "metadata": {
  "kernelspec": {
   "display_name": "Python 3 (ipykernel)",
   "language": "python",
   "name": "python3"
  },
  "language_info": {
   "codemirror_mode": {
    "name": "ipython",
    "version": 3
   },
   "file_extension": ".py",
   "mimetype": "text/x-python",
   "name": "python",
   "nbconvert_exporter": "python",
   "pygments_lexer": "ipython3",
   "version": "3.11.5"
  }
 },
 "nbformat": 4,
 "nbformat_minor": 5
}
