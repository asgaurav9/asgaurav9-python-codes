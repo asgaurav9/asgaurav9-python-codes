{
 "cells": [
  {
   "cell_type": "markdown",
   "id": "208412eb",
   "metadata": {},
   "source": [
    "T3 Sprint"
   ]
  },
  {
   "cell_type": "markdown",
   "id": "d05b8c8b",
   "metadata": {},
   "source": [
    "This improved code demonstrates Homomorphic Encryption (HE) using the Paillier cryptosystem with enhanced features for scalability, usability, and efficiency. It allows encryption and decryption of single or batch values with support for parallel processing, making it suitable for large datasets. The code includes secure aggregation, enabling encrypted values to be summed without decryption, and secure search functionality to check if specific query values exist in encrypted datasets. Results, such as the decrypted sum and query outcomes, are saved to a JSON file for analysis. Additionally, the code features dynamic user input for values and queries, with visualization capabilities using bar charts to present query results interactively. This modular and efficient design ensures robust privacy-preserving analytics and computation."
   ]
  },
  {
   "cell_type": "code",
   "execution_count": 1,
   "id": "69b69d53",
   "metadata": {},
   "outputs": [
    {
     "name": "stdout",
     "output_type": "stream",
     "text": [
      "Requirement already satisfied: phe in c:\\users\\asgau\\anaconda3\\lib\\site-packages (1.5.0)\n"
     ]
    }
   ],
   "source": [
    "# Install required library\n",
    "!pip install phe\n",
    "\n",
    "from phe import paillier\n",
    "import time\n",
    "import json\n",
    "from concurrent.futures import ThreadPoolExecutor"
   ]
  },
  {
   "cell_type": "code",
   "execution_count": 2,
   "id": "0d09b33c",
   "metadata": {},
   "outputs": [],
   "source": [
    "# Generate public and private keys\n",
    "def generate_keys():\n",
    "    public_key, private_key = paillier.generate_paillier_keypair()\n",
    "    return public_key, private_key\n",
    "\n",
    "# Encrypt a single value\n",
    "def encrypt_value(value, public_key):\n",
    "    return public_key.encrypt(value)\n",
    "\n",
    "# Decrypt a single value\n",
    "def decrypt_value(encrypted_value, private_key):\n",
    "    return private_key.decrypt(encrypted_value)\n",
    "\n",
    "# Batch encryption with parallelism\n",
    "def batch_encrypt(values, public_key):\n",
    "    \"\"\"\n",
    "    Encrypts a list of values using the public key in parallel.\n",
    "    \"\"\"\n",
    "    with ThreadPoolExecutor() as executor:\n",
    "        encrypted_values = list(executor.map(public_key.encrypt, values))\n",
    "    return encrypted_values\n",
    "\n",
    "# Batch decryption with parallelism\n",
    "def batch_decrypt(encrypted_values, private_key):\n",
    "    \"\"\"\n",
    "    Decrypts a list of encrypted values using the private key in parallel.\n",
    "    \"\"\"\n",
    "    with ThreadPoolExecutor() as executor:\n",
    "        decrypted_values = list(executor.map(private_key.decrypt, encrypted_values))\n",
    "    return decrypted_values"
   ]
  },
  {
   "cell_type": "code",
   "execution_count": 3,
   "id": "e5ffc51d",
   "metadata": {},
   "outputs": [],
   "source": [
    "# Secure addition\n",
    "def secure_add(encrypted_value1, encrypted_value2):\n",
    "    \"\"\"\n",
    "    Performs homomorphic addition of two encrypted values.\n",
    "    \"\"\"\n",
    "    return encrypted_value1 + encrypted_value2\n",
    "\n",
    "# Secure aggregation\n",
    "def secure_aggregate(encrypted_values):\n",
    "    \"\"\"\n",
    "    Aggregates a list of encrypted values using homomorphic addition.\n",
    "    \"\"\"\n",
    "    aggregate = encrypted_values[0]\n",
    "    for value in encrypted_values[1:]:\n",
    "        aggregate += value\n",
    "    return aggregate\n",
    "\n",
    "# Secure search for a single query\n",
    "def secure_search(encrypted_values, query_value, public_key, private_key):\n",
    "    \"\"\"\n",
    "    Searches for a query value in a list of encrypted values.\n",
    "    \"\"\"\n",
    "    encrypted_query = encrypt_value(query_value, public_key)\n",
    "    for encrypted_value in encrypted_values:\n",
    "        if decrypt_value(encrypted_value, private_key) == query_value:\n",
    "            return True\n",
    "    return False\n",
    "\n",
    "# Secure multi-query search\n",
    "def multi_query_search(encrypted_values, query_values, public_key, private_key):\n",
    "    \"\"\"\n",
    "    Searches for multiple query values in a list of encrypted values.\n",
    "    \"\"\"\n",
    "    results = []\n",
    "    for query in query_values:\n",
    "        result = secure_search(encrypted_values, query, public_key, private_key)\n",
    "        results.append(result)\n",
    "    return results"
   ]
  },
  {
   "cell_type": "code",
   "execution_count": 6,
   "id": "84cfbea8",
   "metadata": {},
   "outputs": [
    {
     "name": "stdout",
     "output_type": "stream",
     "text": [
      "Enter values (comma-separated): 10,20,30\n",
      "Enter query values (comma-separated): 20,30,40,50,60\n",
      "Keys generated.\n",
      "Values encrypted.\n",
      "Decrypted sum of values: 60\n",
      "Search result for query value 20: True\n",
      "Search result for query value 30: True\n",
      "Search result for query value 40: False\n",
      "Search result for query value 50: False\n",
      "Search result for query value 60: False\n",
      "Results saved to he_demo_results.json\n"
     ]
    },
    {
     "data": {
      "image/png": "[encoded data removed]",
      "text/plain": [
       "<Figure size 640x480 with 1 Axes>"
      ]
     },
     "metadata": {},
     "output_type": "display_data"
    },
    {
     "name": "stdout",
     "output_type": "stream",
     "text": [
      "Time taken to run the demo: 19.8050479888916 seconds\n"
     ]
    }
   ],
   "source": [
    "# Save results to a JSON file\n",
    "def save_results_to_file(filename, results):\n",
    "    \"\"\"\n",
    "    Saves results to a JSON file.\n",
    "    \"\"\"\n",
    "    with open(filename, 'w') as f:\n",
    "        json.dump(results, f)\n",
    "\n",
    "# Visualization of results\n",
    "def visualize_results(decrypted_sum, query_results, queries):\n",
    "    \"\"\"\n",
    "    Visualizes the decrypted sum and query results.\n",
    "    \"\"\"\n",
    "    try:\n",
    "        import matplotlib.pyplot as plt\n",
    "\n",
    "        # Bar chart for query results\n",
    "        plt.bar([str(query) for query in queries], query_results, color='blue')\n",
    "        plt.xlabel('Query Values')\n",
    "        plt.ylabel('Search Result')\n",
    "        plt.title(f'Decrypted Sum: {decrypted_sum}')\n",
    "        plt.show()\n",
    "    except ImportError:\n",
    "        print(\"matplotlib is not installed. Skipping visualization.\")\n",
    "\n",
    "# Homomorphic Encryption Demonstration\n",
    "def HE_demo(values, queries):\n",
    "    # Record the start time\n",
    "    start_time = time.time()\n",
    "\n",
    "    # Generate keys\n",
    "    public_key, private_key = generate_keys()\n",
    "    print(\"Keys generated.\")\n",
    "\n",
    "    # Encrypt values\n",
    "    encrypted_values = batch_encrypt(values, public_key)\n",
    "    print(\"Values encrypted.\")\n",
    "\n",
    "    # Perform secure aggregation\n",
    "    encrypted_sum = secure_aggregate(encrypted_values)\n",
    "    decrypted_sum = decrypt_value(encrypted_sum, private_key)\n",
    "    print(f\"Decrypted sum of values: {decrypted_sum}\")\n",
    "\n",
    "    # Perform secure search\n",
    "    query_results = multi_query_search(encrypted_values, queries, public_key, private_key)\n",
    "    for query, result in zip(queries, query_results):\n",
    "        print(f\"Search result for query value {query}: {result}\")\n",
    "\n",
    "    # Save results to a file\n",
    "    results = {\"Decrypted Sum\": decrypted_sum, \"Query Results\": query_results}\n",
    "    save_results_to_file(\"he_demo_results.json\", results)\n",
    "    print(\"Results saved to he_demo_results.json\")\n",
    "\n",
    "    # Visualize results\n",
    "    visualize_results(decrypted_sum, query_results, queries)\n",
    "\n",
    "    # Record the end time\n",
    "    end_time = time.time()\n",
    "\n",
    "    # Calculate the time taken\n",
    "    time_taken = end_time - start_time\n",
    "    print(f\"Time taken to run the demo: {time_taken} seconds\")\n",
    "\n",
    "# Dynamic input for values and queries\n",
    "values = list(map(int, input(\"Enter values (comma-separated): \").split(',')))\n",
    "queries = list(map(int, input(\"Enter query values (comma-separated): \").split(',')))\n",
    "\n",
    "# Run the demonstration\n",
    "HE_demo(values, queries)"
   ]
  },
  {
   "cell_type": "markdown",
   "id": "9fcf65bf",
   "metadata": {},
   "source": [
    "\n",
    "* Supports batch encryption and decryption with parallelism for performance.\n",
    "\n",
    "* Includes secure addition, Supports secure aggregation.\n",
    "\n",
    "* Includes single and multi-query search.\n",
    "\n",
    "* Uses ThreadPoolExecutor for parallelism, improving performance for large datasets.\n",
    "\n",
    "* Saves results to a JSON file for later analysis.\n",
    "\n",
    "* Provides a bar chart for query results using matplotlib.\n",
    "\n",
    "* Accepts dynamic user inputs for values and queries.\n",
    "\n",
    "* Measures overall time with better handling of large-scale operations.\n",
    "\n",
    "* Highly modular and flexible for future expansions, Better suited for demonstrations and real-world applications due to additional features."
   ]
  }
 ],
 "metadata": {
  "kernelspec": {
   "display_name": "Python 3 (ipykernel)",
   "language": "python",
   "name": "python3"
  },
  "language_info": {
   "codemirror_mode": {
    "name": "ipython",
    "version": 3
   },
   "file_extension": ".py",
   "mimetype": "text/x-python",
   "name": "python",
   "nbconvert_exporter": "python",
   "pygments_lexer": "ipython3",
   "version": "3.11.5"
  }
 },
 "nbformat": 4,
 "nbformat_minor": 5
}
