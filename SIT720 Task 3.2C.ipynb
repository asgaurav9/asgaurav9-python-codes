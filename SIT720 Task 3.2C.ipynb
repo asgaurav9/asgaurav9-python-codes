{
 "cells": [
  {
   "cell_type": "markdown",
   "id": "17db5916",
   "metadata": {},
   "source": [
    "# SIT720 Task 3.2C \n",
    "\n",
    "# Machine Learning"
   ]
  },
  {
   "cell_type": "code",
   "execution_count": 28,
   "id": "7968afcb",
   "metadata": {},
   "outputs": [
    {
     "name": "stdout",
     "output_type": "stream",
     "text": [
      "Dimensions of the data: (1059, 9)\n",
      "      cartodb_id  melbourne  postcode    id   fluoride_level  \\\n",
      "0            236      False      3227   236      Fluoridated   \n",
      "1              1       True      3067     1      Fluoridated   \n",
      "2              2       True      3040     2      Fluoridated   \n",
      "3              3      False      3352     3  Not fluoridated   \n",
      "4              4      False      3465     4      Fluoridated   \n",
      "...          ...        ...       ...   ...              ...   \n",
      "1054        1055      False      3352  1055      Fluoridated   \n",
      "1055        1056       True      3770  1056      Fluoridated   \n",
      "1056        1057      False      3869  1057      Fluoridated   \n",
      "1057        1058       True      3063  1058      Fluoridated   \n",
      "1058        1059      False      3418  1059  Not fluoridated   \n",
      "\n",
      "                water_company     townsuburb        lat         lon  \n",
      "0                Barwon Water     CONNEWARRE -38.264069  144.462309  \n",
      "1             City West Water     ABBOTSFORD -37.803000  145.002000  \n",
      "2             City West Water     ABERFELDIE -37.762000  144.901000  \n",
      "3     Central Highlands Water      ADDINGTON -37.383333  143.683333  \n",
      "4     Central Highlands Water  ADELAIDE LEAD -37.083821  143.679125  \n",
      "...                       ...            ...        ...         ...  \n",
      "1054  Central Highlands Water         YENDON -37.644585  143.965034  \n",
      "1055       Yarra Valley Water         YERING -37.700221  145.358251  \n",
      "1056          Gippsland Water         YINNAR -38.316667  146.316667  \n",
      "1057       Yarra Valley Water         YUROKE -37.600000  144.880000  \n",
      "1058                 GWMWater          NHILL -36.351636  141.641108  \n",
      "\n",
      "[1059 rows x 9 columns]\n"
     ]
    }
   ],
   "source": [
    "import pandas as pd\n",
    "\n",
    "# Load the data \n",
    "data = pd.read_csv(\"FluoridationData.csv\")\n",
    "\n",
    "# Print the data\n",
    "print(\"Dimensions of the data:\", data.shape)\n",
    "print(data)\n"
   ]
  },
  {
   "cell_type": "code",
   "execution_count": 29,
   "id": "77a0149a",
   "metadata": {},
   "outputs": [
    {
     "name": "stdout",
     "output_type": "stream",
     "text": [
      "Data types of all features:\n",
      "cartodb_id          int64\n",
      "melbourne            bool\n",
      "postcode            int64\n",
      "id                  int64\n",
      "fluoride_level     object\n",
      "water_company      object\n",
      "townsuburb         object\n",
      "lat               float64\n",
      "lon               float64\n",
      "dtype: object\n",
      "\n",
      "Median values of float-type features:\n",
      "lat    -37.788\n",
      "lon    144.989\n",
      "dtype: float64\n"
     ]
    }
   ],
   "source": [
    "# Display data types \n",
    "print(\"Data types of all features:\")\n",
    "print(data.dtypes)\n",
    "\n",
    "# Print median values \n",
    "float_features = data.select_dtypes(include=['float'])\n",
    "if not float_features.empty:\n",
    "    print(\"\\nMedian values of float-type features:\")\n",
    "    print(float_features.median())\n",
    "else:\n",
    "    print(\"\\nNo float-type features found in the dataset.\")\n"
   ]
  },
  {
   "cell_type": "code",
   "execution_count": 30,
   "id": "c581786d",
   "metadata": {},
   "outputs": [
    {
     "name": "stdout",
     "output_type": "stream",
     "text": [
      "Unique values of 'fluoride_level':\n",
      "['Fluoridated' 'Not fluoridated' 'Partly fluoridated' 'Natural fluoride']\n",
      "\n",
      "Ratio of each 'fluoride_level' value:\n",
      "Fluoridated: 74.32%\n",
      "Not fluoridated: 24.17%\n",
      "Partly fluoridated: 1.32%\n",
      "Natural fluoride: 0.19%\n"
     ]
    }
   ],
   "source": [
    "# Print all the unique values \n",
    "unique_fluoride_levels = data['fluoride_level'].unique()\n",
    "print(\"Unique values of 'fluoride_level':\")\n",
    "print(unique_fluoride_levels)\n",
    "\n",
    "# Calculate the ratio \n",
    "print(\"\\nRatio of each 'fluoride_level' value:\")\n",
    "for level in unique_fluoride_levels:\n",
    "    ratio = (data['fluoride_level'] == level).mean()\n",
    "    print(f\"{level}: {ratio:.2%}\")\n"
   ]
  },
  {
   "cell_type": "code",
   "execution_count": 31,
   "id": "dac6db08",
   "metadata": {},
   "outputs": [
    {
     "name": "stdout",
     "output_type": "stream",
     "text": [
      "Chi-square statistic: 164.56534953232273\n",
      "p-value: 1.8958896190626055e-35\n",
      "There is a significant association between 'melbourne' and 'fluoride_level'.\n"
     ]
    }
   ],
   "source": [
    "import pandas as pd\n",
    "from scipy.stats import chi2_contingency\n",
    "\n",
    "# Create a contingency table\n",
    "contingency_table = pd.crosstab(data['melbourne'], data['fluoride_level'])\n",
    "\n",
    "# Perform chi-square test\n",
    "chi2, p, dof, expected = chi2_contingency(contingency_table)\n",
    "\n",
    "# results\n",
    "alpha = 0.05\n",
    "print(\"Chi-square statistic:\", chi2)\n",
    "print(\"p-value:\", p)\n",
    "if p <= alpha:\n",
    "    print(\"There is a significant association between 'melbourne' and 'fluoride_level'.\")\n",
    "else:\n",
    "    print(\"There is no significant association between 'melbourne' and 'fluoride_level'.\")"
   ]
  },
  {
   "cell_type": "markdown",
   "id": "16733e1c",
   "metadata": {},
   "source": [
    "The chi-square test statistic is a measure of the discrepancy between the observed frequencies in the contingency table and the frequencies that would be expected if the variables 'melbourne' and 'fluoride_level' were independent of each other. In this case, the chi-square statistic is approximately 164.57.\n",
    "\n",
    "The p-value associated with the chi-square statistic is extremely small, approximately 1.896e-35. This p-value represents the probability of observing a chi-square statistic as extreme or more extreme than the one calculated, assuming that the null hypothesis is true. Here, the null hypothesis is that there is no association between 'melbourne' and 'fluoride_level'.\n",
    "\n",
    "Since the p-value is much smaller than the commonly used significance level of 0.05, we reject the null hypothesis. Therefore, we conclude that there is a significant association between 'melbourne' and 'fluoride_level'."
   ]
  },
  {
   "cell_type": "code",
   "execution_count": 32,
   "id": "cf5ec87f",
   "metadata": {},
   "outputs": [
    {
     "name": "stdout",
     "output_type": "stream",
     "text": [
      "Number of water companies for different suburbs:\n",
      "townsuburb\n",
      "BAYSWATER      2\n",
      "OAKLEIGH       2\n",
      "UPWEY          2\n",
      "TULLAMARINE    2\n",
      "ARMADALE       2\n",
      "              ..\n",
      "FRYERSTOWN     1\n",
      "FYANSFORD      1\n",
      "GARDENVALE     1\n",
      "GARFIELD       1\n",
      "NHILL          1\n",
      "Name: count, Length: 1046, dtype: int64\n"
     ]
    }
   ],
   "source": [
    "# Count the number of water companies \n",
    "water_company = data['townsuburb'].value_counts()\n",
    "\n",
    "# Print the result\n",
    "print(\"Number of water companies for different suburbs:\")\n",
    "print(water_company)\n"
   ]
  },
  {
   "cell_type": "code",
   "execution_count": 33,
   "id": "51718393",
   "metadata": {},
   "outputs": [
    {
     "name": "stdout",
     "output_type": "stream",
     "text": [
      "Suburb with the biggest number of water companies: BAYSWATER\n"
     ]
    }
   ],
   "source": [
    "water_company = data[\"townsuburb\"].value_counts()\n",
    "\n",
    "biggest_suburb = water_company.idxmax()\n",
    "\n",
    "# Print the result\n",
    "print(\"Suburb with the biggest number of water companies:\", biggest_suburb)\n"
   ]
  },
  {
   "cell_type": "code",
   "execution_count": 34,
   "id": "2b499e96",
   "metadata": {},
   "outputs": [
    {
     "name": "stdout",
     "output_type": "stream",
     "text": [
      "Suburb with the biggest number of fluoridated companies: ARMADALE\n"
     ]
    }
   ],
   "source": [
    "# Filter the data \n",
    "fluoridated_data = data[data['fluoride_level'].notnull()]\n",
    "\n",
    "# Count the number of water companies \n",
    "fluoridated_water_company_counts = fluoridated_data.groupby('townsuburb')['water_company'].nunique()\n",
    "\n",
    "# Find the suburb \n",
    "max_fluoridated_suburb = fluoridated_water_company_counts.idxmax()\n",
    "\n",
    "# Print the result\n",
    "print(\"Suburb with the biggest number of fluoridated companies:\", max_fluoridated_suburb)"
   ]
  },
  {
   "cell_type": "code",
   "execution_count": 35,
   "id": "6ab0a306",
   "metadata": {},
   "outputs": [
    {
     "name": "stdout",
     "output_type": "stream",
     "text": [
      "Number of water companies at different fluoride levels for different suburbs:\n",
      "fluoride_level  Fluoridated  Natural fluoride  Not fluoridated  \\\n",
      "townsuburb                                                       \n",
      "ABBOTSFORD                1                 0                0   \n",
      "ABERFELDIE                1                 0                0   \n",
      "ADDINGTON                 0                 0                1   \n",
      "ADELAIDE LEAD             1                 0                0   \n",
      "AGNES                     0                 0                1   \n",
      "...                     ...               ...              ...   \n",
      "YELLINGBO                 0                 0                0   \n",
      "YENDON                    1                 0                0   \n",
      "YERING                    1                 0                0   \n",
      "YINNAR                    1                 0                0   \n",
      "YUROKE                    1                 0                0   \n",
      "\n",
      "fluoride_level  Partly fluoridated  \n",
      "townsuburb                          \n",
      "ABBOTSFORD                       0  \n",
      "ABERFELDIE                       0  \n",
      "ADDINGTON                        0  \n",
      "ADELAIDE LEAD                    0  \n",
      "AGNES                            0  \n",
      "...                            ...  \n",
      "YELLINGBO                        1  \n",
      "YENDON                           0  \n",
      "YERING                           0  \n",
      "YINNAR                           0  \n",
      "YUROKE                           0  \n",
      "\n",
      "[1046 rows x 4 columns]\n"
     ]
    }
   ],
   "source": [
    "# Create a pivot table \n",
    "pivot_table = data.pivot_table(index='townsuburb', columns='fluoride_level', aggfunc='size', fill_value=0)\n",
    "\n",
    "# Print the pivot table\n",
    "print(\"Number of water companies at different fluoride levels for different suburbs:\")\n",
    "print(pivot_table)\n"
   ]
  },
  {
   "cell_type": "code",
   "execution_count": 36,
   "id": "200350e5",
   "metadata": {},
   "outputs": [
    {
     "data": {
      "image/png": "[encoded data removed]",
      "text/plain": [
       "<Figure size 1000x600 with 1 Axes>"
      ]
     },
     "metadata": {},
     "output_type": "display_data"
    }
   ],
   "source": [
    "import matplotlib.pyplot as plt\n",
    "\n",
    "top_10_suburbs = fluoridated_water_company_counts.nlargest(10)\n",
    "\n",
    "# Plot histogram\n",
    "plt.figure(figsize=(10, 6))\n",
    "plt.bar(top_10_suburbs.index, top_10_suburbs.values, color='skyblue')\n",
    "plt.xlabel('Suburb')\n",
    "plt.ylabel('Number of Fluoridated Companies')\n",
    "plt.title('Top 10 Suburbs by Number of Fluoridated Companies')\n",
    "plt.xticks(rotation=45, ha='right')\n",
    "plt.tight_layout()\n",
    "plt.show()\n"
   ]
  },
  {
   "cell_type": "markdown",
   "id": "605af9df",
   "metadata": {},
   "source": [
    "#The histogram visualizes the number of fluoridated companies in the top 10 suburbs with the highest counts of such companies. Each bar represents a suburb, and its height corresponds to the number of fluoridated companies in that suburb.\n",
    "Suburbs with the highest number of fluoridated companies: The bars show the distribution of fluoridated companies across the top 10 suburbs. From the histogram, we can identify which suburbs have the highest concentration of fluoridated companies."
   ]
  },
  {
   "cell_type": "code",
   "execution_count": 37,
   "id": "65da7032",
   "metadata": {},
   "outputs": [
    {
     "name": "stderr",
     "output_type": "stream",
     "text": [
      "C:\\Users\\asgau\\AppData\\Local\\Temp\\ipykernel_27816\\248034732.py:7: SettingWithCopyWarning: \n",
      "A value is trying to be set on a copy of a slice from a DataFrame\n",
      "\n",
      "See the caveats in the documentation: https://pandas.pydata.org/pandas-docs/stable/user_guide/indexing.html#returning-a-view-versus-a-copy\n",
      "  features.dropna(inplace=True)\n",
      "C:\\Users\\asgau\\anaconda3\\Lib\\site-packages\\sklearn\\cluster\\_kmeans.py:1412: FutureWarning: The default value of `n_init` will change from 10 to 'auto' in 1.4. Set the value of `n_init` explicitly to suppress the warning\n",
      "  super()._check_params_vs_input(X, default_n_init=10)\n",
      "C:\\Users\\asgau\\anaconda3\\Lib\\site-packages\\sklearn\\cluster\\_kmeans.py:1412: FutureWarning: The default value of `n_init` will change from 10 to 'auto' in 1.4. Set the value of `n_init` explicitly to suppress the warning\n",
      "  super()._check_params_vs_input(X, default_n_init=10)\n",
      "C:\\Users\\asgau\\anaconda3\\Lib\\site-packages\\sklearn\\cluster\\_kmeans.py:1412: FutureWarning: The default value of `n_init` will change from 10 to 'auto' in 1.4. Set the value of `n_init` explicitly to suppress the warning\n",
      "  super()._check_params_vs_input(X, default_n_init=10)\n",
      "C:\\Users\\asgau\\anaconda3\\Lib\\site-packages\\sklearn\\cluster\\_kmeans.py:1412: FutureWarning: The default value of `n_init` will change from 10 to 'auto' in 1.4. Set the value of `n_init` explicitly to suppress the warning\n",
      "  super()._check_params_vs_input(X, default_n_init=10)\n",
      "C:\\Users\\asgau\\anaconda3\\Lib\\site-packages\\sklearn\\cluster\\_kmeans.py:1412: FutureWarning: The default value of `n_init` will change from 10 to 'auto' in 1.4. Set the value of `n_init` explicitly to suppress the warning\n",
      "  super()._check_params_vs_input(X, default_n_init=10)\n",
      "C:\\Users\\asgau\\anaconda3\\Lib\\site-packages\\sklearn\\cluster\\_kmeans.py:1412: FutureWarning: The default value of `n_init` will change from 10 to 'auto' in 1.4. Set the value of `n_init` explicitly to suppress the warning\n",
      "  super()._check_params_vs_input(X, default_n_init=10)\n",
      "C:\\Users\\asgau\\anaconda3\\Lib\\site-packages\\sklearn\\cluster\\_kmeans.py:1412: FutureWarning: The default value of `n_init` will change from 10 to 'auto' in 1.4. Set the value of `n_init` explicitly to suppress the warning\n",
      "  super()._check_params_vs_input(X, default_n_init=10)\n",
      "C:\\Users\\asgau\\anaconda3\\Lib\\site-packages\\sklearn\\cluster\\_kmeans.py:1412: FutureWarning: The default value of `n_init` will change from 10 to 'auto' in 1.4. Set the value of `n_init` explicitly to suppress the warning\n",
      "  super()._check_params_vs_input(X, default_n_init=10)\n",
      "C:\\Users\\asgau\\anaconda3\\Lib\\site-packages\\sklearn\\cluster\\_kmeans.py:1412: FutureWarning: The default value of `n_init` will change from 10 to 'auto' in 1.4. Set the value of `n_init` explicitly to suppress the warning\n",
      "  super()._check_params_vs_input(X, default_n_init=10)\n",
      "C:\\Users\\asgau\\anaconda3\\Lib\\site-packages\\sklearn\\cluster\\_kmeans.py:1412: FutureWarning: The default value of `n_init` will change from 10 to 'auto' in 1.4. Set the value of `n_init` explicitly to suppress the warning\n",
      "  super()._check_params_vs_input(X, default_n_init=10)\n"
     ]
    },
    {
     "data": {
      "image/png": "[encoded data removed]",
      "text/plain": [
       "<Figure size 640x480 with 1 Axes>"
      ]
     },
     "metadata": {},
     "output_type": "display_data"
    },
    {
     "name": "stderr",
     "output_type": "stream",
     "text": [
      "C:\\Users\\asgau\\anaconda3\\Lib\\site-packages\\sklearn\\cluster\\_kmeans.py:1412: FutureWarning: The default value of `n_init` will change from 10 to 'auto' in 1.4. Set the value of `n_init` explicitly to suppress the warning\n",
      "  super()._check_params_vs_input(X, default_n_init=10)\n"
     ]
    },
    {
     "name": "stdout",
     "output_type": "stream",
     "text": [
      "Number of clusters: 3\n"
     ]
    }
   ],
   "source": [
    "from sklearn.cluster import KMeans\n",
    "from sklearn.preprocessing import StandardScaler\n",
    "\n",
    "# Select relevant features for clustering\n",
    "features = data[['postcode', 'cartodb_id', 'lat']]\n",
    "\n",
    "features.dropna(inplace=True)\n",
    "\n",
    "# Standardize the features\n",
    "scaler = StandardScaler()\n",
    "scaled_features = scaler.fit_transform(features)\n",
    "\n",
    "inertia = []\n",
    "for n_clusters in range(1, 11):\n",
    "    kmeans = KMeans(n_clusters=n_clusters, random_state=42)\n",
    "    kmeans.fit(scaled_features)\n",
    "    inertia.append(kmeans.inertia_)\n",
    "\n",
    "# Plot the elbow curve\n",
    "import matplotlib.pyplot as plt\n",
    "plt.plot(range(1, 11), inertia, marker='o')\n",
    "plt.title('Elbow Method')\n",
    "plt.xlabel('Number of Clusters')\n",
    "plt.ylabel('Inertia')\n",
    "plt.show()\n",
    "\n",
    "# Perform K-means clustering\n",
    "kmeans = KMeans(n_clusters=3, random_state=42)\n",
    "clusters = kmeans.fit_predict(scaled_features)\n",
    "\n",
    "\n",
    "num_clusters = len(set(clusters))\n",
    "\n",
    "# Print the number of clusters\n",
    "print(\"Number of clusters:\", num_clusters)\n"
   ]
  },
  {
   "cell_type": "code",
   "execution_count": 38,
   "id": "078b9804",
   "metadata": {},
   "outputs": [
    {
     "name": "stderr",
     "output_type": "stream",
     "text": [
      "C:\\Users\\asgau\\anaconda3\\Lib\\site-packages\\sklearn\\cluster\\_kmeans.py:1412: FutureWarning: The default value of `n_init` will change from 10 to 'auto' in 1.4. Set the value of `n_init` explicitly to suppress the warning\n",
      "  super()._check_params_vs_input(X, default_n_init=10)\n",
      "C:\\Users\\asgau\\anaconda3\\Lib\\site-packages\\sklearn\\cluster\\_kmeans.py:1412: FutureWarning: The default value of `n_init` will change from 10 to 'auto' in 1.4. Set the value of `n_init` explicitly to suppress the warning\n",
      "  super()._check_params_vs_input(X, default_n_init=10)\n",
      "C:\\Users\\asgau\\anaconda3\\Lib\\site-packages\\sklearn\\cluster\\_kmeans.py:1412: FutureWarning: The default value of `n_init` will change from 10 to 'auto' in 1.4. Set the value of `n_init` explicitly to suppress the warning\n",
      "  super()._check_params_vs_input(X, default_n_init=10)\n",
      "C:\\Users\\asgau\\anaconda3\\Lib\\site-packages\\sklearn\\cluster\\_kmeans.py:1412: FutureWarning: The default value of `n_init` will change from 10 to 'auto' in 1.4. Set the value of `n_init` explicitly to suppress the warning\n",
      "  super()._check_params_vs_input(X, default_n_init=10)\n",
      "C:\\Users\\asgau\\anaconda3\\Lib\\site-packages\\sklearn\\cluster\\_kmeans.py:1412: FutureWarning: The default value of `n_init` will change from 10 to 'auto' in 1.4. Set the value of `n_init` explicitly to suppress the warning\n",
      "  super()._check_params_vs_input(X, default_n_init=10)\n",
      "C:\\Users\\asgau\\anaconda3\\Lib\\site-packages\\sklearn\\cluster\\_kmeans.py:1412: FutureWarning: The default value of `n_init` will change from 10 to 'auto' in 1.4. Set the value of `n_init` explicitly to suppress the warning\n",
      "  super()._check_params_vs_input(X, default_n_init=10)\n",
      "C:\\Users\\asgau\\anaconda3\\Lib\\site-packages\\sklearn\\cluster\\_kmeans.py:1412: FutureWarning: The default value of `n_init` will change from 10 to 'auto' in 1.4. Set the value of `n_init` explicitly to suppress the warning\n",
      "  super()._check_params_vs_input(X, default_n_init=10)\n",
      "C:\\Users\\asgau\\anaconda3\\Lib\\site-packages\\sklearn\\cluster\\_kmeans.py:1412: FutureWarning: The default value of `n_init` will change from 10 to 'auto' in 1.4. Set the value of `n_init` explicitly to suppress the warning\n",
      "  super()._check_params_vs_input(X, default_n_init=10)\n",
      "C:\\Users\\asgau\\anaconda3\\Lib\\site-packages\\sklearn\\cluster\\_kmeans.py:1412: FutureWarning: The default value of `n_init` will change from 10 to 'auto' in 1.4. Set the value of `n_init` explicitly to suppress the warning\n",
      "  super()._check_params_vs_input(X, default_n_init=10)\n",
      "C:\\Users\\asgau\\anaconda3\\Lib\\site-packages\\sklearn\\cluster\\_kmeans.py:1412: FutureWarning: The default value of `n_init` will change from 10 to 'auto' in 1.4. Set the value of `n_init` explicitly to suppress the warning\n",
      "  super()._check_params_vs_input(X, default_n_init=10)\n"
     ]
    },
    {
     "name": "stdout",
     "output_type": "stream",
     "text": [
      "Best K value: 7\n"
     ]
    }
   ],
   "source": [
    "from sklearn.metrics import silhouette_score, pairwise_distances_argmin_min\n",
    "from sklearn.cluster import KMeans\n",
    "import numpy as np\n",
    "\n",
    "# Initialize variables \n",
    "best_silhouette_score = -1\n",
    "best_k = -1\n",
    "\n",
    "# Range of K values \n",
    "k_values = range(2, 11)\n",
    "\n",
    "# Iterate over each K value\n",
    "for k in k_values:\n",
    "    # Perform K-means clustering\n",
    "    kmeans = KMeans(n_clusters=k, random_state=42)\n",
    "    cluster_labels = kmeans.fit_predict(scaled_features)\n",
    "    \n",
    "    # Calculate silhouette score\n",
    "    silhouette_avg = silhouette_score(scaled_features, cluster_labels)\n",
    "    \n",
    "    if silhouette_avg > best_silhouette_score:\n",
    "        best_silhouette_score = silhouette_avg\n",
    "        best_k = k\n",
    "kmeans_best = KMeans(n_clusters=best_k, random_state=42)\n",
    "clusters_best = kmeans_best.fit_predict(scaled_features)\n",
    "\n",
    "# Compute the purity score\n",
    "def purity_score(y_true, y_pred):\n",
    "    \"\"\"\n",
    "     Calculate the purity score.\n",
    "   \"\"\"\n",
    "    #Compute contingency matrix\n",
    "    contingency_matrix = np.zeros((len(np.unique(y_true)), len(np.unique(y_pred))))\n",
    "    for i in range(len(y_true)):\n",
    "        contingency_matrix[y_true[i], y_pred[i]] += 1\n",
    "\n",
    "    # Compute purity\n",
    "    purity = np.sum(np.amax(contingency_matrix, axis=0)) / np.sum(contingency_matrix)\n",
    "\n",
    "    return purity\n",
    "\n",
    "# Print the best K value\n",
    "print(\"Best K value:\", best_k)"
   ]
  },
  {
   "cell_type": "code",
   "execution_count": 39,
   "id": "deb5edea",
   "metadata": {},
   "outputs": [
    {
     "name": "stderr",
     "output_type": "stream",
     "text": [
      "C:\\Users\\asgau\\anaconda3\\Lib\\site-packages\\sklearn\\cluster\\_kmeans.py:1412: FutureWarning: The default value of `n_init` will change from 10 to 'auto' in 1.4. Set the value of `n_init` explicitly to suppress the warning\n",
      "  super()._check_params_vs_input(X, default_n_init=10)\n",
      "C:\\Users\\asgau\\anaconda3\\Lib\\site-packages\\sklearn\\cluster\\_kmeans.py:1412: FutureWarning: The default value of `n_init` will change from 10 to 'auto' in 1.4. Set the value of `n_init` explicitly to suppress the warning\n",
      "  super()._check_params_vs_input(X, default_n_init=10)\n",
      "C:\\Users\\asgau\\anaconda3\\Lib\\site-packages\\sklearn\\cluster\\_kmeans.py:1412: FutureWarning: The default value of `n_init` will change from 10 to 'auto' in 1.4. Set the value of `n_init` explicitly to suppress the warning\n",
      "  super()._check_params_vs_input(X, default_n_init=10)\n",
      "C:\\Users\\asgau\\anaconda3\\Lib\\site-packages\\sklearn\\cluster\\_kmeans.py:1412: FutureWarning: The default value of `n_init` will change from 10 to 'auto' in 1.4. Set the value of `n_init` explicitly to suppress the warning\n",
      "  super()._check_params_vs_input(X, default_n_init=10)\n",
      "C:\\Users\\asgau\\anaconda3\\Lib\\site-packages\\sklearn\\cluster\\_kmeans.py:1412: FutureWarning: The default value of `n_init` will change from 10 to 'auto' in 1.4. Set the value of `n_init` explicitly to suppress the warning\n",
      "  super()._check_params_vs_input(X, default_n_init=10)\n",
      "C:\\Users\\asgau\\anaconda3\\Lib\\site-packages\\sklearn\\cluster\\_kmeans.py:1412: FutureWarning: The default value of `n_init` will change from 10 to 'auto' in 1.4. Set the value of `n_init` explicitly to suppress the warning\n",
      "  super()._check_params_vs_input(X, default_n_init=10)\n",
      "C:\\Users\\asgau\\anaconda3\\Lib\\site-packages\\sklearn\\cluster\\_kmeans.py:1412: FutureWarning: The default value of `n_init` will change from 10 to 'auto' in 1.4. Set the value of `n_init` explicitly to suppress the warning\n",
      "  super()._check_params_vs_input(X, default_n_init=10)\n",
      "C:\\Users\\asgau\\anaconda3\\Lib\\site-packages\\sklearn\\cluster\\_kmeans.py:1412: FutureWarning: The default value of `n_init` will change from 10 to 'auto' in 1.4. Set the value of `n_init` explicitly to suppress the warning\n",
      "  super()._check_params_vs_input(X, default_n_init=10)\n",
      "C:\\Users\\asgau\\anaconda3\\Lib\\site-packages\\sklearn\\cluster\\_kmeans.py:1412: FutureWarning: The default value of `n_init` will change from 10 to 'auto' in 1.4. Set the value of `n_init` explicitly to suppress the warning\n",
      "  super()._check_params_vs_input(X, default_n_init=10)\n",
      "C:\\Users\\asgau\\anaconda3\\Lib\\site-packages\\sklearn\\cluster\\_kmeans.py:1412: FutureWarning: The default value of `n_init` will change from 10 to 'auto' in 1.4. Set the value of `n_init` explicitly to suppress the warning\n",
      "  super()._check_params_vs_input(X, default_n_init=10)\n"
     ]
    },
    {
     "name": "stdout",
     "output_type": "stream",
     "text": [
      "Best K value (K-Means++): 7\n"
     ]
    }
   ],
   "source": [
    "from sklearn.cluster import KMeans\n",
    "from sklearn.metrics import silhouette_score\n",
    "import numpy as np\n",
    "\n",
    "# Initialize\n",
    "best_silhouette_score_pp = -1\n",
    "best_k_pp = -1\n",
    "\n",
    "# Range of K values \n",
    "k_values = range(2, 11)\n",
    "\n",
    "# Iterate over each K value\n",
    "for k in k_values:\n",
    "    # Perform K-means++ clustering\n",
    "    kmeans_pp = KMeans(n_clusters=k, init='k-means++', random_state=42)\n",
    "    cluster_labels_pp = kmeans_pp.fit_predict(scaled_features)\n",
    "    \n",
    "    # Calculate silhouette score\n",
    "    silhouette_avg_pp = silhouette_score(scaled_features, cluster_labels_pp)\n",
    "    \n",
    "    # Update best silhouette score \n",
    "    if silhouette_avg_pp > best_silhouette_score_pp:\n",
    "        best_silhouette_score_pp = silhouette_avg_pp\n",
    "        best_k_pp = k\n",
    "\n",
    "# Perform K-means++ clustering\n",
    "kmeans_pp_best = KMeans(n_clusters=best_k_pp, init='k-means++', random_state=42)\n",
    "clusters_pp_best = kmeans_pp_best.fit_predict(scaled_features)\n",
    "\n",
    "# Print the best K value\n",
    "print(\"Best K value (K-Means++):\", best_k_pp)"
   ]
  },
  {
   "cell_type": "code",
   "execution_count": 40,
   "id": "b6f2b964",
   "metadata": {},
   "outputs": [
    {
     "name": "stdout",
     "output_type": "stream",
     "text": [
      "Number of clusters (DBSCAN): 4\n"
     ]
    }
   ],
   "source": [
    "from sklearn.cluster import DBSCAN\n",
    "\n",
    "# Perform DBSCAN clustering\n",
    "dbscan_cluster = DBSCAN(eps=0.5, min_samples=5)\n",
    "cluster_labels_dbscan = dbscan_cluster.fit_predict(scaled_features)\n",
    "\n",
    "# Count the number of clusters \n",
    "num_clusters_dbscan = len(set(cluster_labels_dbscan)) - (1 if -1 in cluster_labels_dbscan else 0)\n",
    "\n",
    "# Print the number of clusters\n",
    "print(\"Number of clusters (DBSCAN):\", num_clusters_dbscan)"
   ]
  }
 ],
 "metadata": {
  "kernelspec": {
   "display_name": "Python 3 (ipykernel)",
   "language": "python",
   "name": "python3"
  },
  "language_info": {
   "codemirror_mode": {
    "name": "ipython",
    "version": 3
   },
   "file_extension": ".py",
   "mimetype": "text/x-python",
   "name": "python",
   "nbconvert_exporter": "python",
   "pygments_lexer": "ipython3",
   "version": "3.11.5"
  }
 },
 "nbformat": 4,
 "nbformat_minor": 5
}
