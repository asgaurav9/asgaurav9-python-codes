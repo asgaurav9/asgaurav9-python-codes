{
 "cells": [
  {
   "cell_type": "markdown",
   "id": "0777f435",
   "metadata": {},
   "source": [
    "## Assignment 1"
   ]
  },
  {
   "cell_type": "markdown",
   "id": "c833c2e9",
   "metadata": {},
   "source": [
    "# 1. String Variable"
   ]
  },
  {
   "cell_type": "code",
   "execution_count": 1,
   "id": "f8542aeb",
   "metadata": {},
   "outputs": [
    {
     "name": "stdout",
     "output_type": "stream",
     "text": [
      "Student Names: ['Neha Gopi', 'Likitha DT', 'Mohan Krian', 'Pranav Ramesh', 'Gokul', 'Student97', 'Student78', 'Student41', 'Student44', 'Student45']\n",
      "Course Names: ['Data Science Professional', 'IT Professional', 'IT Professional', 'MBA International', 'Data Science Professional', 'Course54', 'Course22', 'Course92', 'Course80', 'Course56']\n",
      "Email Addresses: ['neha@gmail.com', 'likitha@gmail.com', 'mohan@gmail.com', 'pranav@gmail.com', 'gokul@gmail.com', 'email17@example.com', 'email85@example.com', 'email93@example.com', 'email9@example.com', 'email55@example.com']\n"
     ]
    }
   ],
   "source": [
    "import random\n",
    "\n",
    "# Create variables\n",
    "student_name = ['Neha Gopi', 'Likitha DT', 'Mohan Krian', 'Pranav Ramesh', 'Gokul']\n",
    "course_name = ['Data Science Professional', 'IT Professional', 'IT Professional', 'MBA International', 'Data Science Professional']\n",
    "email_address = ['neha@gmail.com', 'likitha@gmail.com', 'mohan@gmail.com', 'pranav@gmail.com', 'gokul@gmail.com']\n",
    "\n",
    "# Add  values to each variable\n",
    "for _ in range(5):\n",
    "    student_name.append(\"Student\" + str(random.randint(1, 100)))\n",
    "    course_name.append(\"Course\" + str(random.randint(1, 100)))\n",
    "    email_address.append(\"email\" + str(random.randint(1, 100)) + \"@example.com\")\n",
    "\n",
    "# Print the values\n",
    "print(\"Student Names:\", student_name)\n",
    "print(\"Course Names:\", course_name)\n",
    "print(\"Email Addresses:\", email_address)\n"
   ]
  },
  {
   "cell_type": "markdown",
   "id": "84bede68",
   "metadata": {},
   "source": [
    "# 2. Three Variables"
   ]
  },
  {
   "cell_type": "code",
   "execution_count": 2,
   "id": "48489376",
   "metadata": {},
   "outputs": [
    {
     "name": "stdout",
     "output_type": "stream",
     "text": [
      "Characters at odd positions:\n",
      "S i a s   a r v A d l \n",
      "Characters at even positions:\n",
      "r v t a G u a   d a a "
     ]
    }
   ],
   "source": [
    "# Define the string variable with the name\n",
    "my_name = \"Srivatsa Gaurav Addala\"\n",
    "\n",
    "# Print characters at odd positions\n",
    "print(\"Characters at odd positions:\")\n",
    "for i in range(0, len(my_name), 2):\n",
    "    print(my_name[i], end=' ')\n",
    "\n",
    "# Print characters at even positions\n",
    "print(\"\\nCharacters at even positions:\")\n",
    "for i in range(1, len(my_name), 2):\n",
    "    print(my_name[i], end=' ')\n"
   ]
  },
  {
   "cell_type": "markdown",
   "id": "dae5492c",
   "metadata": {},
   "source": [
    "# 3. Create Dict"
   ]
  },
  {
   "cell_type": "code",
   "execution_count": 3,
   "id": "f794391e",
   "metadata": {},
   "outputs": [
    {
     "name": "stdout",
     "output_type": "stream",
     "text": [
      "Student Information:\n",
      "{'Student name': ['Neha Gopi', 'Likitha DT', 'Mohan Krian', 'Pranav Ramesh', 'Gokul', 'Student97', 'Student78', 'Student41', 'Student44', 'Student45'], 'Course name': ['Data Science Professional', 'IT Professional', 'IT Professional', 'MBA International', 'Data Science Professional', 'Course54', 'Course22', 'Course92', 'Course80', 'Course56'], 'EmailAddress': ['neha@gmail.com', 'likitha@gmail.com', 'mohan@gmail.com', 'pranav@gmail.com', 'gokul@gmail.com', 'email17@example.com', 'email85@example.com', 'email93@example.com', 'email9@example.com', 'email55@example.com']}\n"
     ]
    }
   ],
   "source": [
    "# Create a dictionary variable\n",
    "student_info = {}\n",
    "\n",
    "# Insert values into the dictionary\n",
    "student_info['Student name'] = student_name\n",
    "student_info['Course name'] = course_name\n",
    "student_info['EmailAddress'] = email_address\n",
    "\n",
    "# Print the dictionary\n",
    "print(\"Student Information:\")\n",
    "print(student_info)\n"
   ]
  },
  {
   "cell_type": "markdown",
   "id": "7c2575ca",
   "metadata": {},
   "source": [
    "# 4. Define String Variable"
   ]
  },
  {
   "cell_type": "code",
   "execution_count": 4,
   "id": "c8695753",
   "metadata": {},
   "outputs": [
    {
     "name": "stdout",
     "output_type": "stream",
     "text": [
      "Natural gas\n"
     ]
    }
   ],
   "source": [
    "# Define the energy variable\n",
    "energy = 'Fossil'  \n",
    "\n",
    "if energy == 'Fossil':\n",
    "    print(\"Natural gas\")\n",
    "else:\n",
    "    print(\"Solar power\")\n"
   ]
  },
  {
   "cell_type": "markdown",
   "id": "a8d01aeb",
   "metadata": {},
   "source": [
    "# 5 . Print Prime Numbers"
   ]
  },
  {
   "cell_type": "code",
   "execution_count": 5,
   "id": "87d48bce",
   "metadata": {},
   "outputs": [
    {
     "name": "stdout",
     "output_type": "stream",
     "text": [
      "Prime numbers between 0 and 100:\n",
      "2\n",
      "3\n",
      "5\n",
      "7\n",
      "11\n",
      "13\n",
      "17\n",
      "19\n",
      "23\n",
      "29\n",
      "31\n",
      "37\n",
      "41\n",
      "43\n",
      "47\n",
      "53\n",
      "59\n",
      "61\n",
      "67\n",
      "71\n",
      "73\n",
      "79\n",
      "83\n",
      "89\n",
      "97\n"
     ]
    }
   ],
   "source": [
    "# Function to check if a number is prime\n",
    "def is_prime(num):\n",
    "    if num < 2:\n",
    "        return False\n",
    "    for i in range(2, int(num**0.5) + 1):\n",
    "        if num % i == 0:\n",
    "            return False\n",
    "    return True\n",
    "\n",
    "# Print prime numbers between 0 and 100\n",
    "print(\"Prime numbers between 0 and 100:\")\n",
    "for number in range(101):\n",
    "    if is_prime(number):\n",
    "        print(number)\n"
   ]
  },
  {
   "cell_type": "markdown",
   "id": "3448cead",
   "metadata": {},
   "source": [
    "# 6. Break a Loop"
   ]
  },
  {
   "cell_type": "markdown",
   "id": "dd0df59e",
   "metadata": {},
   "source": [
    "Yes, it is possible to break a loop before executing for the defined number of iterations using a while loop in Python. The break statement is used to exit a loop prematurely. Here's an example:\n",
    "\n",
    "\n",
    "\n",
    "In this example, the while loop continues as long as counter is less than 10. However, there is a condition (counter == limit) inside the loop that triggers the break statement, causing the loop to terminate prematurely when the condition is met. This allows you to break out of the loop before reaching the defined number of iterations.\n",
    "\n",
    "If you want to break a for loop before the defined number of iterations, a similar approach can be used with the break statement. However, for loops in Python are generally designed to iterate over a sequence, so the control flow is typically less flexible than with a while loop."
   ]
  },
  {
   "cell_type": "code",
   "execution_count": 6,
   "id": "6acd1ffe",
   "metadata": {},
   "outputs": [
    {
     "name": "stdout",
     "output_type": "stream",
     "text": [
      "Current counter value: 0\n",
      "Current counter value: 1\n",
      "Current counter value: 2\n",
      "Current counter value: 3\n",
      "Current counter value: 4\n",
      "Current counter value: 5\n",
      "Breaking the loop before the defined number of iterations.\n"
     ]
    }
   ],
   "source": [
    "counter = 0\n",
    "limit = 5\n",
    "\n",
    "while counter < 10:\n",
    "    print(\"Current counter value:\", counter)\n",
    "    \n",
    "    if counter == limit:\n",
    "        print(\"Breaking the loop before the defined number of iterations.\")\n",
    "        break\n",
    "    \n",
    "    counter += 1\n"
   ]
  },
  {
   "cell_type": "markdown",
   "id": "3b49ef8f",
   "metadata": {},
   "source": [
    "# 7. Functions "
   ]
  },
  {
   "cell_type": "code",
   "execution_count": 7,
   "id": "3b27d323",
   "metadata": {},
   "outputs": [
    {
     "name": "stdout",
     "output_type": "stream",
     "text": [
      "Addition: 11\n",
      "Multiplication: 28\n",
      "Division: 0.5714285714285714\n",
      "Subtraction: -3\n"
     ]
    }
   ],
   "source": [
    "# Function  addition\n",
    "def Addition(x, y):\n",
    "    return x + y\n",
    "\n",
    "# Function  multiplication\n",
    "def Multiplication(x, y):\n",
    "    return x * y\n",
    "\n",
    "# Function  division\n",
    "def Division(x, y):\n",
    "    if y != 0:\n",
    "        return x / y\n",
    "    else:\n",
    "        return \"Cannot divide by zero\"\n",
    "\n",
    "# Function subtraction\n",
    "def Subtraction(x, y):\n",
    "    return x - y\n",
    "\n",
    "# Call the functions \n",
    "result_addition = Addition(4, 7)\n",
    "result_multiplication = Multiplication(4, 7)\n",
    "result_division = Division(4, 7)\n",
    "result_subtraction = Subtraction(4, 7)\n",
    "\n",
    "# Print the outputs\n",
    "print(\"Addition:\", result_addition)\n",
    "print(\"Multiplication:\", result_multiplication)\n",
    "print(\"Division:\", result_division)\n",
    "print(\"Subtraction:\", result_subtraction)\n"
   ]
  },
  {
   "cell_type": "markdown",
   "id": "f73d468d",
   "metadata": {},
   "source": [
    "# 8. Create Matrix"
   ]
  },
  {
   "cell_type": "code",
   "execution_count": 8,
   "id": "afb48b64",
   "metadata": {},
   "outputs": [
    {
     "name": "stdout",
     "output_type": "stream",
     "text": [
      "8x8 Identity Matrix:\n",
      "[[1. 0. 0. 0. 0. 0. 0. 0.]\n",
      " [0. 1. 0. 0. 0. 0. 0. 0.]\n",
      " [0. 0. 1. 0. 0. 0. 0. 0.]\n",
      " [0. 0. 0. 1. 0. 0. 0. 0.]\n",
      " [0. 0. 0. 0. 1. 0. 0. 0.]\n",
      " [0. 0. 0. 0. 0. 1. 0. 0.]\n",
      " [0. 0. 0. 0. 0. 0. 1. 0.]\n",
      " [0. 0. 0. 0. 0. 0. 0. 1.]]\n",
      "\n",
      "8x4 Random Matrix:\n",
      "[[0.95534373 0.93437188 0.66791906 0.76932291]\n",
      " [0.03592968 0.63792042 0.40116111 0.90063842]\n",
      " [0.04440888 0.22491857 0.7732528  0.91385075]\n",
      " [0.63803878 0.46855974 0.85365418 0.91052168]\n",
      " [0.41255532 0.80118762 0.46885145 0.77081298]\n",
      " [0.49398766 0.85894834 0.5238975  0.88456152]\n",
      " [0.61235481 0.08885146 0.97703874 0.41794709]\n",
      " [0.30390918 0.77320829 0.97095882 0.62681447]]\n",
      "\n",
      "Result Matrix after multiplying Identity matrix with Random matrix:\n",
      "[[0.95534373 0.93437188 0.66791906 0.76932291]\n",
      " [0.03592968 0.63792042 0.40116111 0.90063842]\n",
      " [0.04440888 0.22491857 0.7732528  0.91385075]\n",
      " [0.63803878 0.46855974 0.85365418 0.91052168]\n",
      " [0.41255532 0.80118762 0.46885145 0.77081298]\n",
      " [0.49398766 0.85894834 0.5238975  0.88456152]\n",
      " [0.61235481 0.08885146 0.97703874 0.41794709]\n",
      " [0.30390918 0.77320829 0.97095882 0.62681447]]\n"
     ]
    }
   ],
   "source": [
    "import numpy as np\n",
    "\n",
    "# Create an 8x8 identity matrix\n",
    "identity_matrix = np.identity(8)\n",
    "print(\"8x8 Identity Matrix:\")\n",
    "print(identity_matrix)\n",
    "print()\n",
    "\n",
    "# Create an 8x4 random matrix\n",
    "random_matrix = np.random.random((8, 4))\n",
    "print(\"8x4 Random Matrix:\")\n",
    "print(random_matrix)\n",
    "print()\n",
    "\n",
    "# Multiply the identity matrix with the random matrix\n",
    "result_matrix = np.dot(identity_matrix, random_matrix)\n",
    "print(\"Result Matrix after multiplying Identity matrix with Random matrix:\")\n",
    "print(result_matrix)\n"
   ]
  },
  {
   "cell_type": "markdown",
   "id": "e42d8e83",
   "metadata": {},
   "source": [
    "# 9. Create a 8X9 Matrix"
   ]
  },
  {
   "cell_type": "code",
   "execution_count": 9,
   "id": "614b2a9b",
   "metadata": {},
   "outputs": [
    {
     "name": "stdout",
     "output_type": "stream",
     "text": [
      "Original 8x9 Matrix:\n",
      "[[0.85527691 0.51594508 0.8547578  0.87110652 0.86370886 0.9582921\n",
      "  0.55083419 0.15214443 0.53204085]\n",
      " [0.8686851  0.6835292  0.95455566 0.97794023 0.39926108 0.18984645\n",
      "  0.45452608 0.5890776  0.7633494 ]\n",
      " [0.92912642 0.4517594  0.16700938 0.98310805 0.91129135 0.15700584\n",
      "  0.68263124 0.07948443 0.66903906]\n",
      " [0.53393822 0.3223714  0.51169274 0.77047072 0.71805378 0.32662155\n",
      "  0.85290779 0.75985037 0.20208253]\n",
      " [0.1653931  0.77003156 0.54336152 0.07030657 0.88217287 0.32025548\n",
      "  0.91058279 0.46971654 0.97089195]\n",
      " [0.80113581 0.74468565 0.22046751 0.42622609 0.7632196  0.3889261\n",
      "  0.62536762 0.18808479 0.76056643]\n",
      " [0.5416324  0.50141196 0.51843477 0.19691809 0.13319159 0.97152489\n",
      "  0.90827224 0.52960914 0.03197305]\n",
      " [0.41491722 0.88807245 0.91389424 0.039486   0.03584073 0.30686687\n",
      "  0.56068345 0.37419468 0.07077089]]\n",
      "\n",
      "Transposed 9x8 Matrix:\n",
      "[[0.85527691 0.8686851  0.92912642 0.53393822 0.1653931  0.80113581\n",
      "  0.5416324  0.41491722]\n",
      " [0.51594508 0.6835292  0.4517594  0.3223714  0.77003156 0.74468565\n",
      "  0.50141196 0.88807245]\n",
      " [0.8547578  0.95455566 0.16700938 0.51169274 0.54336152 0.22046751\n",
      "  0.51843477 0.91389424]\n",
      " [0.87110652 0.97794023 0.98310805 0.77047072 0.07030657 0.42622609\n",
      "  0.19691809 0.039486  ]\n",
      " [0.86370886 0.39926108 0.91129135 0.71805378 0.88217287 0.7632196\n",
      "  0.13319159 0.03584073]\n",
      " [0.9582921  0.18984645 0.15700584 0.32662155 0.32025548 0.3889261\n",
      "  0.97152489 0.30686687]\n",
      " [0.55083419 0.45452608 0.68263124 0.85290779 0.91058279 0.62536762\n",
      "  0.90827224 0.56068345]\n",
      " [0.15214443 0.5890776  0.07948443 0.75985037 0.46971654 0.18808479\n",
      "  0.52960914 0.37419468]\n",
      " [0.53204085 0.7633494  0.66903906 0.20208253 0.97089195 0.76056643\n",
      "  0.03197305 0.07077089]]\n"
     ]
    }
   ],
   "source": [
    "# Create an 8x9 matrix with random values\n",
    "original_matrix = np.random.random((8, 9))\n",
    "print(\"Original 8x9 Matrix:\")\n",
    "print(original_matrix)\n",
    "print()\n",
    "\n",
    "# Transpose the matrix\n",
    "transposed_matrix = np.transpose(original_matrix)\n",
    "print(\"Transposed 9x8 Matrix:\")\n",
    "print(transposed_matrix)"
   ]
  },
  {
   "cell_type": "markdown",
   "id": "b76777c0",
   "metadata": {},
   "source": [
    "# 10. PEDESTRIAN COUNTING MATRIX"
   ]
  },
  {
   "cell_type": "code",
   "execution_count": 10,
   "id": "87c85b8a",
   "metadata": {},
   "outputs": [
    {
     "name": "stdout",
     "output_type": "stream",
     "text": [
      "Number of data instances: 525005\n",
      "Number of variables/features: 7\n",
      "\n",
      "Mean of LocationID: 53.17730497804783\n",
      "\n",
      "Original Values:\n",
      "0          51\n",
      "1          51\n",
      "2          51\n",
      "3          51\n",
      "4          51\n",
      "         ... \n",
      "525000    142\n",
      "525001    142\n",
      "525002    142\n",
      "525003    142\n",
      "525004    142\n",
      "Name: LocationID, Length: 525005, dtype: int64\n",
      "\n",
      "Modified Values (Mean Deducted):\n",
      "0         -2.177305\n",
      "1         -2.177305\n",
      "2         -2.177305\n",
      "3         -2.177305\n",
      "4         -2.177305\n",
      "            ...    \n",
      "525000    88.822695\n",
      "525001    88.822695\n",
      "525002    88.822695\n",
      "525003    88.822695\n",
      "525004    88.822695\n",
      "Name: LocationID, Length: 525005, dtype: float64\n"
     ]
    }
   ],
   "source": [
    "import pandas as pd\n",
    "\n",
    "file_path = \"pedestrian-counting-system-monthly-counts-per-hour.csv\"\n",
    "data = pd.read_csv(file_path)\n",
    "\n",
    "# Display the shape of the dataset\n",
    "num_instances, num_variables = data.shape\n",
    "print(f\"Number of data instances: {num_instances}\")\n",
    "print(f\"Number of variables/features: {num_variables}\")\n",
    "print()\n",
    "\n",
    "# Calculate the mean of the third variable\n",
    "variable_index = 2\n",
    "variable_name = data.columns[variable_index]\n",
    "variable_mean = data.iloc[:, variable_index].mean()\n",
    "print(f\"Mean of {variable_name}: {variable_mean}\")\n",
    "\n",
    "modified_values = data.iloc[:, variable_index] - variable_mean\n",
    "\n",
    "# Print both original and modified values\n",
    "print(\"\\nOriginal Values:\")\n",
    "print(data.iloc[:, variable_index])\n",
    "\n",
    "print(\"\\nModified Values (Mean Deducted):\")\n",
    "print(modified_values)\n"
   ]
  }
 ],
 "metadata": {
  "kernelspec": {
   "display_name": "Python 3 (ipykernel)",
   "language": "python",
   "name": "python3"
  },
  "language_info": {
   "codemirror_mode": {
    "name": "ipython",
    "version": 3
   },
   "file_extension": ".py",
   "mimetype": "text/x-python",
   "name": "python",
   "nbconvert_exporter": "python",
   "pygments_lexer": "ipython3",
   "version": "3.11.5"
  }
 },
 "nbformat": 4,
 "nbformat_minor": 5
}
