{
 "cells": [
  {
   "cell_type": "markdown",
   "id": "e17da768",
   "metadata": {},
   "source": [
    "# SIT720\n",
    "MACHINE LEARNING\n",
    "TASK 8.1P"
   ]
  },
  {
   "cell_type": "code",
   "execution_count": 6,
   "id": "b6d273bc",
   "metadata": {},
   "outputs": [
    {
     "name": "stdout",
     "output_type": "stream",
     "text": [
      "       tau1      tau2      tau3      tau4        p1        p2        p3  \\\n",
      "0  2.959060  3.079885  8.381025  9.780754  3.763085 -0.782604 -1.257395   \n",
      "1  9.304097  4.902524  3.047541  1.369357  5.067812 -1.940058 -1.872742   \n",
      "2  8.971707  8.848428  3.046479  1.214518  3.405158 -1.207456 -1.277210   \n",
      "3  0.716415  7.669600  4.486641  2.340563  3.963791 -1.027473 -1.938944   \n",
      "4  3.134112  7.608772  4.943759  9.857573  3.525811 -1.125531 -1.845975   \n",
      "\n",
      "         p4        g1        g2        g3        g4      stab     stabf  \n",
      "0 -1.723086  0.650456  0.859578  0.887445  0.958034  0.055347  unstable  \n",
      "1 -1.255012  0.413441  0.862414  0.562139  0.781760 -0.005957    stable  \n",
      "2 -0.920492  0.163041  0.766689  0.839444  0.109853  0.003471  unstable  \n",
      "3 -0.997374  0.446209  0.976744  0.929381  0.362718  0.028871  unstable  \n",
      "4 -0.554305  0.797110  0.455450  0.656947  0.820923  0.049860  unstable  \n"
     ]
    }
   ],
   "source": [
    "import pandas as pd\n",
    "\n",
    "# Load the dataset \n",
    "data = pd.read_csv('electrical+grid+stability+simulated+data (1).zip')\n",
    "\n",
    "# Display the dataset\n",
    "print(data.head())\n"
   ]
  },
  {
   "cell_type": "code",
   "execution_count": 7,
   "id": "1e98c20d",
   "metadata": {},
   "outputs": [
    {
     "name": "stdout",
     "output_type": "stream",
     "text": [
      "Performance Metrics:\n",
      "Accuracy: 0.9315\n",
      "Precision: 0.9313601481688567\n",
      "Recall: 0.9315\n",
      "F1 Score: 0.9314176148523154\n"
     ]
    }
   ],
   "source": [
    "from sklearn.metrics import accuracy_score, precision_score, recall_score, f1_score\n",
    "from sklearn.model_selection import train_test_split\n",
    "from sklearn.preprocessing import StandardScaler\n",
    "from sklearn.neighbors import KNeighborsClassifier\n",
    "\n",
    "X = data.iloc[:, :-1]  # Features\n",
    "y = data.iloc[:, -1]   # Target variable\n",
    "\n",
    "# Split data into training and testing sets \n",
    "X_train, X_test, y_train, y_test = train_test_split(X, y, test_size=0.2, random_state=42)\n",
    "\n",
    "# Standardize features\n",
    "scaler = StandardScaler()\n",
    "X_train_scaled = scaler.fit_transform(X_train)\n",
    "X_test_scaled = scaler.transform(X_test)\n",
    "\n",
    "# Initialize KNN classifier\n",
    "knn = KNeighborsClassifier(n_neighbors=5)\n",
    "\n",
    "# Train the classifier\n",
    "knn.fit(X_train_scaled, y_train)\n",
    "\n",
    "# Predict on the test set\n",
    "y_pred = knn.predict(X_test_scaled)\n",
    "\n",
    "# Evaluate the classifier\n",
    "accuracy = accuracy_score(y_test, y_pred)\n",
    "precision = precision_score(y_test, y_pred, average='weighted')\n",
    "recall = recall_score(y_test, y_pred, average='weighted')\n",
    "f1 = f1_score(y_test, y_pred, average='weighted')\n",
    "\n",
    "print(\"Performance Metrics:\")\n",
    "print(\"Accuracy:\", accuracy)\n",
    "print(\"Precision:\", precision)\n",
    "print(\"Recall:\", recall)\n",
    "print(\"F1 Score:\", f1)"
   ]
  },
  {
   "cell_type": "markdown",
   "id": "8d01aa46",
   "metadata": {},
   "source": [
    "1.Data Preparation: It loads the dataset (data) and separates the features (X) from the target variable (y).\n",
    "\n",
    "2.Data Splitting: It splits the data into training and testing sets using a 80-20% split ratio.\n",
    "\n",
    "3.Feature Scaling: It standardizes the features using StandardScaler to ensure that each feature contributes equally to the distance calculations in KNN.\n",
    "\n",
    "4.Model Initialization and Training: It initializes a KNN classifier with n_neighbors=5 and trains it using the training data (X_train_scaled, y_train).\n",
    "\n",
    "5.Prediction and Evaluation: It makes predictions on the test set (X_test_scaled) using the trained classifier and evaluates its performance using accuracy, precision, recall, and F1-score."
   ]
  },
  {
   "cell_type": "code",
   "execution_count": 8,
   "id": "ad701594",
   "metadata": {},
   "outputs": [
    {
     "name": "stdout",
     "output_type": "stream",
     "text": [
      "Performance Metrics - 50-50% Splitting:\n",
      "Accuracy: 0.9998\n",
      "Precision: 0.9998001113585746\n",
      "Recall: 0.9998\n",
      "\n",
      "Performance Metrics - 80-20% Splitting:\n",
      "Accuracy: 0.9995\n",
      "Precision: 0.9995007204610952\n",
      "Recall: 0.9995\n",
      "F1 Score: 0.9995000845696647\n"
     ]
    }
   ],
   "source": [
    "from sklearn.tree import DecisionTreeClassifier\n",
    "\n",
    "# Decision Tree classifier\n",
    "def train_evaluate_decision_tree(X_train, X_test, y_train, y_test):\n",
    "    # Initialize Decision Tree classifier\n",
    "    dt_classifier = DecisionTreeClassifier()\n",
    "\n",
    "    # Train the classifier\n",
    "    dt_classifier.fit(X_train, y_train)\n",
    "\n",
    "    \n",
    "    y_pred = dt_classifier.predict(X_test)\n",
    "\n",
    "    # Evaluate\n",
    "    accuracy = accuracy_score(y_test, y_pred)\n",
    "    precision = precision_score(y_test, y_pred, average='weighted')\n",
    "    recall = recall_score(y_test, y_pred, average='weighted')\n",
    "    f1 = f1_score(y_test, y_pred, average='weighted')\n",
    "\n",
    "    return accuracy, precision, recall, f1\n",
    "\n",
    "# Split the data \n",
    "X_train_50, X_test_50, y_train_50, y_test_50 = train_test_split(X, y, test_size=0.5, random_state=42)\n",
    "\n",
    "# Split the data \n",
    "X_train_80, X_test_80, y_train_80, y_test_80 = train_test_split(X, y, test_size=0.2, random_state=42)\n",
    "\n",
    "# Train and evaluate Decision Tree classifier \n",
    "accuracy_50, precision_50, recall_50, f1_50 = train_evaluate_decision_tree(X_train_50, X_test_50, y_train_50, y_test_50)\n",
    "\n",
    "# Train and evaluate Decision Tree classifier\n",
    "accuracy_80, precision_80, recall_80, f1_80 = train_evaluate_decision_tree(X_train_80, X_test_80, y_train_80, y_test_80)\n",
    "\n",
    "# Compare performances\n",
    "print(\"Performance Metrics - 50-50% Splitting:\")\n",
    "print(\"Accuracy:\", accuracy_50)\n",
    "print(\"Precision:\", precision_50)\n",
    "print(\"Recall:\", recall_50)\n",
    "\n",
    "print(\"\\nPerformance Metrics - 80-20% Splitting:\")\n",
    "print(\"Accuracy:\", accuracy_80)\n",
    "print(\"Precision:\", precision_80)\n",
    "print(\"Recall:\", recall_80)\n",
    "print(\"F1 Score:\", f1_80)\n"
   ]
  },
  {
   "cell_type": "markdown",
   "id": "3e0be4f5",
   "metadata": {},
   "source": [
    "Evaluate a Decision Tree classifier on a given dataset. It then splits the dataset into training and testing sets using two different splitting ratios (50-50% and 80-20%). The Decision Tree classifier is trained and evaluated on both splits, and the performance metrics (accuracy, precision, recall, and F1-score) are computed and printed for comparison."
   ]
  },
  {
   "cell_type": "code",
   "execution_count": 9,
   "id": "bec78ac0",
   "metadata": {},
   "outputs": [
    {
     "name": "stdout",
     "output_type": "stream",
     "text": [
      "Performance Metrics - Default Euclidean Distance Metric:\n",
      "Accuracy: 0.9315\n",
      "Precision: 0.9313601481688567\n",
      "Recall: 0.9315\n",
      "F1 Score: 0.9314176148523154\n",
      "\n",
      "Performance Metrics - Cityblock Distance Metric:\n",
      "Accuracy: 0.941\n",
      "Precision: 0.9409619001922569\n",
      "Recall: 0.941\n",
      "F1 Score: 0.9409799234590162\n",
      "\n",
      "Performance Metrics - Manhattan Distance Metric:\n",
      "Accuracy: 0.941\n",
      "Precision: 0.9409619001922569\n",
      "Recall: 0.941\n",
      "F1 Score: 0.9409799234590162\n"
     ]
    }
   ],
   "source": [
    "# Split the data \n",
    "X_train, X_test, y_train, y_test = train_test_split(X, y, test_size=0.2, random_state=42)\n",
    "\n",
    "# Standardize features\n",
    "scaler = StandardScaler()\n",
    "X_train_scaled = scaler.fit_transform(X_train)\n",
    "X_test_scaled = scaler.transform(X_test)\n",
    "\n",
    "# KNN classifier with different distance metrics\n",
    "def train_evaluate_knn(X_train, X_test, y_train, y_test, metric='euclidean'):\n",
    "    \n",
    "    \n",
    "    knn = KNeighborsClassifier(metric=metric)\n",
    "\n",
    "    # Train the classifier\n",
    "    knn.fit(X_train, y_train)\n",
    "\n",
    "    # Predict on the test set\n",
    "    y_pred = knn.predict(X_test)\n",
    "\n",
    "    # Evaluate the classifier\n",
    "    accuracy = accuracy_score(y_test, y_pred)\n",
    "    precision = precision_score(y_test, y_pred, average='weighted')\n",
    "    recall = recall_score(y_test, y_pred, average='weighted')\n",
    "    f1 = f1_score(y_test, y_pred, average='weighted')\n",
    "\n",
    "    return accuracy, precision, recall, f1\n",
    "\n",
    "# Euclidean distance metric\n",
    "accuracy_euclidean, precision_euclidean, recall_euclidean, f1_euclidean = train_evaluate_knn(X_train_scaled, X_test_scaled, y_train, y_test)\n",
    "\n",
    "# cityblock distance metric\n",
    "accuracy_cityblock, precision_cityblock, recall_cityblock, f1_cityblock = train_evaluate_knn(X_train_scaled, X_test_scaled, y_train, y_test, metric='cityblock')\n",
    "\n",
    "# Manhattan distance metric\n",
    "accuracy_manhattan, precision_manhattan, recall_manhattan, f1_manhattan = train_evaluate_knn(X_train_scaled, X_test_scaled, y_train, y_test, metric='manhattan')\n",
    "\n",
    "# Report the performances\n",
    "print(\"Performance Metrics - Default Euclidean Distance Metric:\")\n",
    "print(\"Accuracy:\", accuracy_euclidean)\n",
    "print(\"Precision:\", precision_euclidean)\n",
    "print(\"Recall:\", recall_euclidean)\n",
    "print(\"F1 Score:\", f1_euclidean)\n",
    "\n",
    "print(\"\\nPerformance Metrics - Cityblock Distance Metric:\")\n",
    "print(\"Accuracy:\", accuracy_cityblock)\n",
    "print(\"Precision:\", precision_cityblock)\n",
    "print(\"Recall:\", recall_cityblock)\n",
    "print(\"F1 Score:\", f1_cityblock)\n",
    "\n",
    "print(\"\\nPerformance Metrics - Manhattan Distance Metric:\")\n",
    "print(\"Accuracy:\", accuracy_manhattan)\n",
    "print(\"Precision:\", precision_manhattan)\n",
    "print(\"Recall:\", recall_manhattan)\n",
    "print(\"F1 Score:\", f1_manhattan)\n"
   ]
  },
  {
   "cell_type": "markdown",
   "id": "24d295d6",
   "metadata": {},
   "source": [
    "Evaluate a KNN classifier with different distance metrics (default Euclidean, cityblock, and Manhattan). It then trains and evaluates KNN classifiers using the default Euclidean distance metric, cityblock distance metric, and Manhattan distance metric. Performance metrics (accuracy, precision, recall, and F1-score) are computed for each classifier and printed for comparison."
   ]
  }
 ],
 "metadata": {
  "kernelspec": {
   "display_name": "Python 3 (ipykernel)",
   "language": "python",
   "name": "python3"
  },
  "language_info": {
   "codemirror_mode": {
    "name": "ipython",
    "version": 3
   },
   "file_extension": ".py",
   "mimetype": "text/x-python",
   "name": "python",
   "nbconvert_exporter": "python",
   "pygments_lexer": "ipython3",
   "version": "3.11.5"
  }
 },
 "nbformat": 4,
 "nbformat_minor": 5
}
